{
  "nbformat": 4,
  "nbformat_minor": 0,
  "metadata": {
    "colab": {
      "name": "Untitled",
      "version": "0.3.2",
      "provenance": [],
      "include_colab_link": true
    },
    "kernelspec": {
      "name": "python3",
      "display_name": "Python 3"
    }
  },
  "cells": [
    {
      "cell_type": "markdown",
      "metadata": {
        "id": "view-in-github",
        "colab_type": "text"
      },
      "source": [
        "<a href=\"https://colab.research.google.com/github/bhushanmalgaonkar/everybody-dance-now/blob/master/everybody%20dance%20now.ipynb\" target=\"_parent\"><img src=\"https://colab.research.google.com/assets/colab-badge.svg\" alt=\"Open In Colab\"/></a>"
      ]
    },
    {
      "metadata": {
        "id": "ZAFmsQeT_xa1",
        "colab_type": "code",
        "colab": {}
      },
      "cell_type": "code",
      "source": [
        "import tensorflow as tf\n",
        "import numpy as np\n",
        "import matplotlib.pyplot as plt"
      ],
      "execution_count": 0,
      "outputs": []
    },
    {
      "metadata": {
        "id": "rDk1nplZJBas",
        "colab_type": "code",
        "colab": {}
      },
      "cell_type": "code",
      "source": [
        "tf.reset_default_graph()"
      ],
      "execution_count": 0,
      "outputs": []
    },
    {
      "metadata": {
        "id": "4yQ9jc_Ifg8t",
        "colab_type": "code",
        "colab": {}
      },
      "cell_type": "code",
      "source": [
        "TENSOR_REPO = {}"
      ],
      "execution_count": 0,
      "outputs": []
    },
    {
      "metadata": {
        "id": "WZeR4T4TLi-N",
        "colab_type": "code",
        "colab": {}
      },
      "cell_type": "code",
      "source": [
        "num_features = [64, 128, 256, 512, 512, 512, 512]"
      ],
      "execution_count": 0,
      "outputs": []
    },
    {
      "metadata": {
        "id": "aBZdVi8iB6Pq",
        "colab_type": "code",
        "colab": {}
      },
      "cell_type": "code",
      "source": [
        "# encoder: C64-C128-C256-C512-C512-C512-C512-C512\n",
        "\n",
        "def encoder():\n",
        "  net = tf.placeholder(dtype=tf.float32, shape=[None, 640, 640, 6])\n",
        "  \n",
        "  for idx, nf in enumerate(num_features):\n",
        "    tensor_name = 'GEN_EN_CONV_' + str(idx)\n",
        "    net = tf.keras.layers.Conv2D(nf, (3, 3), (1, 1), padding='SAME', name=tensor_name)(net)\n",
        "    TENSOR_REPO[tensor_name] = net\n",
        "    print(net)\n",
        "    \n",
        "    net = tf.keras.layers.LeakyReLU(0.2)(net)\n",
        "    \n",
        "    net = tf.keras.layers.MaxPool2D((2, 2), (2, 2), name='GEN_EN_POOL_' + str(idx))(net)\n",
        "    print(net)\n",
        "    \n",
        "  return net\n",
        "  "
      ],
      "execution_count": 0,
      "outputs": []
    },
    {
      "metadata": {
        "id": "atK-NUEBKSj4",
        "colab_type": "code",
        "colab": {}
      },
      "cell_type": "code",
      "source": [
        "def decoder(net):\n",
        "  for idx, nf in enumerate(num_features[::-1]):\n",
        "    net = tf.keras.layers.Conv2DTranspose(nf, (3, 3), (2, 2), padding='SAME', name='GEN_EN_DCONV_' + str(idx))(net)\n",
        "    print(net)\n",
        "    \n",
        "    net = tf.keras.layers.ReLU(0.2)(net)\n",
        "  \n",
        "  net = tf.keras.layers.Conv2DTranspose(3, (3, 3), (1, 1), padding='SAME', name='GEN_EN_DCONV_' + str(idx + 1))(net)\n",
        "  print(net)\n",
        " \n",
        "  return net"
      ],
      "execution_count": 0,
      "outputs": []
    },
    {
      "metadata": {
        "id": "K2sXD9-KKIs6",
        "colab_type": "code",
        "colab": {}
      },
      "cell_type": "code",
      "source": [
        "tf.reset_default_graph()\n",
        "def generator():\n",
        "  net = encoder()\n",
        "  net = decoder(net)\n",
        "  return net"
      ],
      "execution_count": 0,
      "outputs": []
    },
    {
      "metadata": {
        "id": "nxiRHXReDe_k",
        "colab_type": "code",
        "colab": {
          "base_uri": "https://localhost:8080/",
          "height": 408
        },
        "outputId": "e4d9d134-4a9c-4fdf-e946-a74b284c6b10"
      },
      "cell_type": "code",
      "source": [
        "generator()"
      ],
      "execution_count": 152,
      "outputs": [
        {
          "output_type": "stream",
          "text": [
            "Tensor(\"GEN_EN_CONV_0/BiasAdd:0\", shape=(?, 640, 640, 64), dtype=float32)\n",
            "Tensor(\"GEN_EN_POOL_0/MaxPool:0\", shape=(?, 320, 320, 64), dtype=float32)\n",
            "Tensor(\"GEN_EN_CONV_1/BiasAdd:0\", shape=(?, 320, 320, 128), dtype=float32)\n",
            "Tensor(\"GEN_EN_POOL_1/MaxPool:0\", shape=(?, 160, 160, 128), dtype=float32)\n",
            "Tensor(\"GEN_EN_CONV_2/BiasAdd:0\", shape=(?, 160, 160, 256), dtype=float32)\n",
            "Tensor(\"GEN_EN_POOL_2/MaxPool:0\", shape=(?, 80, 80, 256), dtype=float32)\n",
            "Tensor(\"GEN_EN_CONV_3/BiasAdd:0\", shape=(?, 80, 80, 512), dtype=float32)\n",
            "Tensor(\"GEN_EN_POOL_3/MaxPool:0\", shape=(?, 40, 40, 512), dtype=float32)\n",
            "Tensor(\"GEN_EN_CONV_4/BiasAdd:0\", shape=(?, 40, 40, 512), dtype=float32)\n",
            "Tensor(\"GEN_EN_POOL_4/MaxPool:0\", shape=(?, 20, 20, 512), dtype=float32)\n",
            "Tensor(\"GEN_EN_CONV_5/BiasAdd:0\", shape=(?, 20, 20, 512), dtype=float32)\n",
            "Tensor(\"GEN_EN_POOL_5/MaxPool:0\", shape=(?, 10, 10, 512), dtype=float32)\n",
            "Tensor(\"GEN_EN_CONV_6/BiasAdd:0\", shape=(?, 10, 10, 512), dtype=float32)\n",
            "Tensor(\"GEN_EN_POOL_6/MaxPool:0\", shape=(?, 5, 5, 512), dtype=float32)\n",
            "Tensor(\"GEN_EN_DCONV_0/BiasAdd:0\", shape=(?, 10, 10, 512), dtype=float32)\n",
            "Tensor(\"GEN_EN_DCONV_1/BiasAdd:0\", shape=(?, 20, 20, 512), dtype=float32)\n",
            "Tensor(\"GEN_EN_DCONV_2/BiasAdd:0\", shape=(?, 40, 40, 512), dtype=float32)\n",
            "Tensor(\"GEN_EN_DCONV_3/BiasAdd:0\", shape=(?, 80, 80, 512), dtype=float32)\n",
            "Tensor(\"GEN_EN_DCONV_4/BiasAdd:0\", shape=(?, 160, 160, 256), dtype=float32)\n",
            "Tensor(\"GEN_EN_DCONV_5/BiasAdd:0\", shape=(?, 320, 320, 128), dtype=float32)\n",
            "Tensor(\"GEN_EN_DCONV_6/BiasAdd:0\", shape=(?, 640, 640, 64), dtype=float32)\n",
            "Tensor(\"GEN_EN_DCONV_7/BiasAdd:0\", shape=(?, 640, 640, 3), dtype=float32)\n"
          ],
          "name": "stdout"
        },
        {
          "output_type": "execute_result",
          "data": {
            "text/plain": [
              "<tf.Tensor 'GEN_EN_DCONV_7/BiasAdd:0' shape=(?, 640, 640, 3) dtype=float32>"
            ]
          },
          "metadata": {
            "tags": []
          },
          "execution_count": 152
        }
      ]
    },
    {
      "metadata": {
        "id": "sWUl7jLoazrf",
        "colab_type": "code",
        "colab": {}
      },
      "cell_type": "code",
      "source": [
        "def discriminator(disc_idx):\n",
        "  net = tf.placeholder(dtype=tf.float32, shape=[None, 640, 640, 6])\n",
        "  \n",
        "  for idx, nf in enumerate(num_features):\n",
        "    net = tf.keras.layers.Conv2D(nf, (3, 3), (1, 1), padding='SAME', name='DISC_' + str(disc_idx) + '_CONV_' + str(idx))(net)\n",
        "    print(net)\n",
        "    \n",
        "    net = tf.keras.layers.LeakyReLU(0.2)(net)\n",
        "    \n",
        "    net = tf.keras.layers.MaxPool2D((2, 2), (2, 2), name='DISC_' + str(disc_idx) + '_POOL_' + str(idx))(net)\n",
        "    print(net)\n",
        "    \n",
        "  return net\n",
        "  "
      ],
      "execution_count": 0,
      "outputs": []
    },
    {
      "metadata": {
        "id": "AgwGeQAea-eg",
        "colab_type": "code",
        "colab": {
          "base_uri": "https://localhost:8080/",
          "height": 272
        },
        "outputId": "196ce977-1331-497b-b497-107e8f98fcdf"
      },
      "cell_type": "code",
      "source": [
        "tf.reset_default_graph()\n",
        "discriminator('1')"
      ],
      "execution_count": 184,
      "outputs": [
        {
          "output_type": "stream",
          "text": [
            "Tensor(\"DISC_1_CONV_0/BiasAdd:0\", shape=(?, 640, 640, 64), dtype=float32)\n",
            "Tensor(\"DISC_1_POOL_0/MaxPool:0\", shape=(?, 320, 320, 64), dtype=float32)\n",
            "Tensor(\"DISC_1_CONV_1/BiasAdd:0\", shape=(?, 320, 320, 128), dtype=float32)\n",
            "Tensor(\"DISC_1_POOL_1/MaxPool:0\", shape=(?, 160, 160, 128), dtype=float32)\n",
            "Tensor(\"DISC_1_CONV_2/BiasAdd:0\", shape=(?, 160, 160, 256), dtype=float32)\n",
            "Tensor(\"DISC_1_POOL_2/MaxPool:0\", shape=(?, 80, 80, 256), dtype=float32)\n",
            "Tensor(\"DISC_1_CONV_3/BiasAdd:0\", shape=(?, 80, 80, 512), dtype=float32)\n",
            "Tensor(\"DISC_1_POOL_3/MaxPool:0\", shape=(?, 40, 40, 512), dtype=float32)\n",
            "Tensor(\"DISC_1_CONV_4/BiasAdd:0\", shape=(?, 40, 40, 512), dtype=float32)\n",
            "Tensor(\"DISC_1_POOL_4/MaxPool:0\", shape=(?, 20, 20, 512), dtype=float32)\n",
            "Tensor(\"DISC_1_CONV_5/BiasAdd:0\", shape=(?, 20, 20, 512), dtype=float32)\n",
            "Tensor(\"DISC_1_POOL_5/MaxPool:0\", shape=(?, 10, 10, 512), dtype=float32)\n",
            "Tensor(\"DISC_1_CONV_6/BiasAdd:0\", shape=(?, 10, 10, 512), dtype=float32)\n",
            "Tensor(\"DISC_1_POOL_6/MaxPool:0\", shape=(?, 5, 5, 512), dtype=float32)\n"
          ],
          "name": "stdout"
        },
        {
          "output_type": "execute_result",
          "data": {
            "text/plain": [
              "<tf.Tensor 'DISC_1_POOL_6/MaxPool:0' shape=(?, 5, 5, 512) dtype=float32>"
            ]
          },
          "metadata": {
            "tags": []
          },
          "execution_count": 184
        }
      ]
    },
    {
      "metadata": {
        "id": "pHE3eYQhbKvo",
        "colab_type": "code",
        "colab": {
          "base_uri": "https://localhost:8080/",
          "height": 272
        },
        "outputId": "75724d6f-860f-40f2-e225-8b58710b49cb"
      },
      "cell_type": "code",
      "source": [
        "discriminator(2)"
      ],
      "execution_count": 185,
      "outputs": [
        {
          "output_type": "stream",
          "text": [
            "Tensor(\"DISC_2_CONV_0/BiasAdd:0\", shape=(?, 640, 640, 64), dtype=float32)\n",
            "Tensor(\"DISC_2_POOL_0/MaxPool:0\", shape=(?, 320, 320, 64), dtype=float32)\n",
            "Tensor(\"DISC_2_CONV_1/BiasAdd:0\", shape=(?, 320, 320, 128), dtype=float32)\n",
            "Tensor(\"DISC_2_POOL_1/MaxPool:0\", shape=(?, 160, 160, 128), dtype=float32)\n",
            "Tensor(\"DISC_2_CONV_2/BiasAdd:0\", shape=(?, 160, 160, 256), dtype=float32)\n",
            "Tensor(\"DISC_2_POOL_2/MaxPool:0\", shape=(?, 80, 80, 256), dtype=float32)\n",
            "Tensor(\"DISC_2_CONV_3/BiasAdd:0\", shape=(?, 80, 80, 512), dtype=float32)\n",
            "Tensor(\"DISC_2_POOL_3/MaxPool:0\", shape=(?, 40, 40, 512), dtype=float32)\n",
            "Tensor(\"DISC_2_CONV_4/BiasAdd:0\", shape=(?, 40, 40, 512), dtype=float32)\n",
            "Tensor(\"DISC_2_POOL_4/MaxPool:0\", shape=(?, 20, 20, 512), dtype=float32)\n",
            "Tensor(\"DISC_2_CONV_5/BiasAdd:0\", shape=(?, 20, 20, 512), dtype=float32)\n",
            "Tensor(\"DISC_2_POOL_5/MaxPool:0\", shape=(?, 10, 10, 512), dtype=float32)\n",
            "Tensor(\"DISC_2_CONV_6/BiasAdd:0\", shape=(?, 10, 10, 512), dtype=float32)\n",
            "Tensor(\"DISC_2_POOL_6/MaxPool:0\", shape=(?, 5, 5, 512), dtype=float32)\n"
          ],
          "name": "stdout"
        },
        {
          "output_type": "execute_result",
          "data": {
            "text/plain": [
              "<tf.Tensor 'DISC_2_POOL_6/MaxPool:0' shape=(?, 5, 5, 512) dtype=float32>"
            ]
          },
          "metadata": {
            "tags": []
          },
          "execution_count": 185
        }
      ]
    },
    {
      "metadata": {
        "id": "FsV-xH-mby5U",
        "colab_type": "code",
        "colab": {
          "base_uri": "https://localhost:8080/",
          "height": 272
        },
        "outputId": "df5de638-206a-4bf5-cb7d-5a59e09ef39b"
      },
      "cell_type": "code",
      "source": [
        "discriminator(3)"
      ],
      "execution_count": 186,
      "outputs": [
        {
          "output_type": "stream",
          "text": [
            "Tensor(\"DISC_3_CONV_0/BiasAdd:0\", shape=(?, 640, 640, 64), dtype=float32)\n",
            "Tensor(\"DISC_3_POOL_0/MaxPool:0\", shape=(?, 320, 320, 64), dtype=float32)\n",
            "Tensor(\"DISC_3_CONV_1/BiasAdd:0\", shape=(?, 320, 320, 128), dtype=float32)\n",
            "Tensor(\"DISC_3_POOL_1/MaxPool:0\", shape=(?, 160, 160, 128), dtype=float32)\n",
            "Tensor(\"DISC_3_CONV_2/BiasAdd:0\", shape=(?, 160, 160, 256), dtype=float32)\n",
            "Tensor(\"DISC_3_POOL_2/MaxPool:0\", shape=(?, 80, 80, 256), dtype=float32)\n",
            "Tensor(\"DISC_3_CONV_3/BiasAdd:0\", shape=(?, 80, 80, 512), dtype=float32)\n",
            "Tensor(\"DISC_3_POOL_3/MaxPool:0\", shape=(?, 40, 40, 512), dtype=float32)\n",
            "Tensor(\"DISC_3_CONV_4/BiasAdd:0\", shape=(?, 40, 40, 512), dtype=float32)\n",
            "Tensor(\"DISC_3_POOL_4/MaxPool:0\", shape=(?, 20, 20, 512), dtype=float32)\n",
            "Tensor(\"DISC_3_CONV_5/BiasAdd:0\", shape=(?, 20, 20, 512), dtype=float32)\n",
            "Tensor(\"DISC_3_POOL_5/MaxPool:0\", shape=(?, 10, 10, 512), dtype=float32)\n",
            "Tensor(\"DISC_3_CONV_6/BiasAdd:0\", shape=(?, 10, 10, 512), dtype=float32)\n",
            "Tensor(\"DISC_3_POOL_6/MaxPool:0\", shape=(?, 5, 5, 512), dtype=float32)\n"
          ],
          "name": "stdout"
        },
        {
          "output_type": "execute_result",
          "data": {
            "text/plain": [
              "<tf.Tensor 'DISC_3_POOL_6/MaxPool:0' shape=(?, 5, 5, 512) dtype=float32>"
            ]
          },
          "metadata": {
            "tags": []
          },
          "execution_count": 186
        }
      ]
    },
    {
      "metadata": {
        "id": "raYdFrtbci07",
        "colab_type": "code",
        "colab": {}
      },
      "cell_type": "code",
      "source": [
        ""
      ],
      "execution_count": 0,
      "outputs": []
    }
  ]
}